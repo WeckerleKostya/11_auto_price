{
 "cells": [
  {
   "cell_type": "markdown",
   "id": "f7818662",
   "metadata": {},
   "source": [
    "# Описание проекта\n",
    "\n",
    "* **Сфера деятельности**: сервис по продаже автомобилей с пробегом\n",
    "\n",
    "* **Цель**: построить модель определения рыночной стоимости автомобиля по технических характеристикам, комплектации и ценах других автомобилей.\n",
    "\n",
    "* **Ключевые критерии качества модели** (в порядке приоритетности):\n",
    "    - качество предсказания (**метрика RMSE < 2500**)\n",
    "    - время обучения модели\n",
    "    - время предсказания модели\n",
    "\n",
    "* **Задачи**:\n",
    "    - Загрузить данные и описать данные;\n",
    "    - Осуществить предобработку;\n",
    "    - Подготовить выборки для обучения моделей;\n",
    "    - Обучить разные модели, одна из которых — **LightGBM**, как минимум **одна — не бустинг**. Для каждой модели необходимо попробовать разные гиперпараметры.\n",
    "    - Проанализировать время обучения, время предсказания и качество моделей;\n",
    "    - Опираясь на критерии заказчика, выберете лучшую модель, проверьте её качество на тестовой выборке.\n",
    "\n",
    "## Описание данных:\n",
    "* **Признаки**:\n",
    "    - DateCrawled — дата скачивания анкеты из базы\n",
    "    - VehicleType — тип автомобильного кузова\n",
    "    - RegistrationYear — год регистрации автомобиля\n",
    "    - Gearbox — тип коробки передач\n",
    "    - Power — мощность (л. с.)\n",
    "    - Model — модель автомобиля\n",
    "    - Kilometer — пробег (км)\n",
    "    - RegistrationMonth — месяц регистрации автомобиля\n",
    "    - FuelType — тип топлива\n",
    "    - Brand — марка автомобиля\n",
    "    - NotRepaired — была машина в ремонте или нет\n",
    "    - DateCreated — дата создания анкеты\n",
    "    - NumberOfPictures — количество фотографий автомобиля\n",
    "    - PostalCode — почтовый индекс владельца анкеты (пользователя)\n",
    "    - LastSeen — дата последней активности пользователя\n",
    "* **Целевой признак**:\n",
    "    - Price — цена (евро)"
   ]
  },
  {
   "cell_type": "markdown",
   "id": "34272b6e",
   "metadata": {},
   "source": [

   ]
  },
  {
   "cell_type": "code",
   "execution_count": 17,
   "id": "639ea33b",
   "metadata": {},
   "outputs": [],
   "source": [
    "import pandas as pd\n",
    "import numpy as np\n",
    "import re\n",
    "from sklearn.linear_model import LinearRegression\n",
    "from sklearn.model_selection import train_test_split\n",
    "from numpy.random import RandomState\n",
    "import statistics\n",
    "\n",
    "import time\n",
    "\n",
    "from sklearn.model_selection import train_test_split, KFold, GridSearchCV\n",
    "from sklearn.preprocessing import StandardScaler, LabelEncoder\n",
    "from sklearn.metrics import mean_squared_error as mse, make_scorer\n",
    "from sklearn.linear_model import Lasso\n",
    "from sklearn.pipeline import Pipeline\n",
    "\n",
    "\n",
    "from catboost import CatBoostRegressor\n",
    "\n",
    "from lightgbm import LGBMRegressor\n",
    "\n",
    "import matplotlib.pyplot as plt\n",
    "import seaborn as sns"
   ]
  },
  {
   "cell_type": "markdown",
   "id": "8d5061e3",
   "metadata": {},
   "source": [
    "## 1. Загрузка и подготовка данных к анализу"
   ]
  },
  {
   "cell_type": "markdown",
   "id": "489112e8",
   "metadata": {},
   "source": [
    "### 1.1 Загрузка  данных"
   ]
  },
  {
   "cell_type": "code",
   "execution_count": 18,
   "id": "8203f8fc",
   "metadata": {},
   "outputs": [
    {
     "name": "stdout",
     "output_type": "stream",
     "text": [
      "Вывод первых 5 строк из таблицы с данными.\n"
     ]
    },
    {
     "data": {
      "text/html": [
       "<div>\n",
       "<style scoped>\n",
       "    .dataframe tbody tr th:only-of-type {\n",
       "        vertical-align: middle;\n",
       "    }\n",
       "\n",
       "    .dataframe tbody tr th {\n",
       "        vertical-align: top;\n",
       "    }\n",
       "\n",
       "    .dataframe thead th {\n",
       "        text-align: right;\n",
       "    }\n",
       "</style>\n",
       "<table border=\"1\" class=\"dataframe\">\n",
       "  <thead>\n",
       "    <tr style=\"text-align: right;\">\n",
       "      <th></th>\n",
       "      <th>DateCrawled</th>\n",
       "      <th>Price</th>\n",
       "      <th>VehicleType</th>\n",
       "      <th>RegistrationYear</th>\n",
       "      <th>Gearbox</th>\n",
       "      <th>Power</th>\n",
       "      <th>Model</th>\n",
       "      <th>Kilometer</th>\n",
       "      <th>RegistrationMonth</th>\n",
       "      <th>FuelType</th>\n",
       "      <th>Brand</th>\n",
       "      <th>NotRepaired</th>\n",
       "      <th>DateCreated</th>\n",
       "      <th>NumberOfPictures</th>\n",
       "      <th>PostalCode</th>\n",
       "      <th>LastSeen</th>\n",
       "    </tr>\n",
       "  </thead>\n",
       "  <tbody>\n",
       "    <tr>\n",
       "      <th>0</th>\n",
       "      <td>2016-03-24 11:52:17</td>\n",
       "      <td>480</td>\n",
       "      <td>NaN</td>\n",
       "      <td>1993</td>\n",
       "      <td>manual</td>\n",
       "      <td>0</td>\n",
       "      <td>golf</td>\n",
       "      <td>150000</td>\n",
       "      <td>0</td>\n",
       "      <td>petrol</td>\n",
       "      <td>volkswagen</td>\n",
       "      <td>NaN</td>\n",
       "      <td>2016-03-24 00:00:00</td>\n",
       "      <td>0</td>\n",
       "      <td>70435</td>\n",
       "      <td>2016-04-07 03:16:57</td>\n",
       "    </tr>\n",
       "    <tr>\n",
       "      <th>1</th>\n",
       "      <td>2016-03-24 10:58:45</td>\n",
       "      <td>18300</td>\n",
       "      <td>coupe</td>\n",
       "      <td>2011</td>\n",
       "      <td>manual</td>\n",
       "      <td>190</td>\n",
       "      <td>NaN</td>\n",
       "      <td>125000</td>\n",
       "      <td>5</td>\n",
       "      <td>gasoline</td>\n",
       "      <td>audi</td>\n",
       "      <td>yes</td>\n",
       "      <td>2016-03-24 00:00:00</td>\n",
       "      <td>0</td>\n",
       "      <td>66954</td>\n",
       "      <td>2016-04-07 01:46:50</td>\n",
       "    </tr>\n",
       "    <tr>\n",
       "      <th>2</th>\n",
       "      <td>2016-03-14 12:52:21</td>\n",
       "      <td>9800</td>\n",
       "      <td>suv</td>\n",
       "      <td>2004</td>\n",
       "      <td>auto</td>\n",
       "      <td>163</td>\n",
       "      <td>grand</td>\n",
       "      <td>125000</td>\n",
       "      <td>8</td>\n",
       "      <td>gasoline</td>\n",
       "      <td>jeep</td>\n",
       "      <td>NaN</td>\n",
       "      <td>2016-03-14 00:00:00</td>\n",
       "      <td>0</td>\n",
       "      <td>90480</td>\n",
       "      <td>2016-04-05 12:47:46</td>\n",
       "    </tr>\n",
       "    <tr>\n",
       "      <th>3</th>\n",
       "      <td>2016-03-17 16:54:04</td>\n",
       "      <td>1500</td>\n",
       "      <td>small</td>\n",
       "      <td>2001</td>\n",
       "      <td>manual</td>\n",
       "      <td>75</td>\n",
       "      <td>golf</td>\n",
       "      <td>150000</td>\n",
       "      <td>6</td>\n",
       "      <td>petrol</td>\n",
       "      <td>volkswagen</td>\n",
       "      <td>no</td>\n",
       "      <td>2016-03-17 00:00:00</td>\n",
       "      <td>0</td>\n",
       "      <td>91074</td>\n",
       "      <td>2016-03-17 17:40:17</td>\n",
       "    </tr>\n",
       "    <tr>\n",
       "      <th>4</th>\n",
       "      <td>2016-03-31 17:25:20</td>\n",
       "      <td>3600</td>\n",
       "      <td>small</td>\n",
       "      <td>2008</td>\n",
       "      <td>manual</td>\n",
       "      <td>69</td>\n",
       "      <td>fabia</td>\n",
       "      <td>90000</td>\n",
       "      <td>7</td>\n",
       "      <td>gasoline</td>\n",
       "      <td>skoda</td>\n",
       "      <td>no</td>\n",
       "      <td>2016-03-31 00:00:00</td>\n",
       "      <td>0</td>\n",
       "      <td>60437</td>\n",
       "      <td>2016-04-06 10:17:21</td>\n",
       "    </tr>\n",
       "  </tbody>\n",
       "</table>\n",
       "</div>"
      ],
      "text/plain": [
       "           DateCrawled  Price VehicleType  RegistrationYear Gearbox  Power  \\\n",
       "0  2016-03-24 11:52:17    480         NaN              1993  manual      0   \n",
       "1  2016-03-24 10:58:45  18300       coupe              2011  manual    190   \n",
       "2  2016-03-14 12:52:21   9800         suv              2004    auto    163   \n",
       "3  2016-03-17 16:54:04   1500       small              2001  manual     75   \n",
       "4  2016-03-31 17:25:20   3600       small              2008  manual     69   \n",
       "\n",
       "   Model  Kilometer  RegistrationMonth  FuelType       Brand NotRepaired  \\\n",
       "0   golf     150000                  0    petrol  volkswagen         NaN   \n",
       "1    NaN     125000                  5  gasoline        audi         yes   \n",
       "2  grand     125000                  8  gasoline        jeep         NaN   \n",
       "3   golf     150000                  6    petrol  volkswagen          no   \n",
       "4  fabia      90000                  7  gasoline       skoda          no   \n",
       "\n",
       "           DateCreated  NumberOfPictures  PostalCode             LastSeen  \n",
       "0  2016-03-24 00:00:00                 0       70435  2016-04-07 03:16:57  \n",
       "1  2016-03-24 00:00:00                 0       66954  2016-04-07 01:46:50  \n",
       "2  2016-03-14 00:00:00                 0       90480  2016-04-05 12:47:46  \n",
       "3  2016-03-17 00:00:00                 0       91074  2016-03-17 17:40:17  \n",
       "4  2016-03-31 00:00:00                 0       60437  2016-04-06 10:17:21  "
      ]
     },
     "metadata": {},
     "output_type": "display_data"
    },
    {
     "name": "stdout",
     "output_type": "stream",
     "text": [
      "\n",
      "Загрузка файла прошла успешно!!!\n"
     ]
    }
   ],
   "source": [
    "# Загрузка данных\n",
    "try:\n",
    "    try:\n",
    "        df = pd.read_csv('autos.csv')\n",
    "    except:\n",
    "        df = pd.read_csv('/datasets/autos.csv')\n",
    "\n",
    "    print('Вывод первых 5 строк из таблицы с данными.')\n",
    "    display(df.head())\n",
    "    print()\n",
    "    print('Загрузка файла прошла успешно!!!')\n",
    "except:\n",
    "    print('При загрузке данных произошла ошибка. Проверьте наличие файла и/или путь к нему.')"
   ]
  },
  {
   "cell_type": "code",
   "execution_count": 19,
   "id": "633683ab",
   "metadata": {},
   "outputs": [
    {
     "data": {
      "text/html": [
       "<div>\n",
       "<style scoped>\n",
       "    .dataframe tbody tr th:only-of-type {\n",
       "        vertical-align: middle;\n",
       "    }\n",
       "\n",
       "    .dataframe tbody tr th {\n",
       "        vertical-align: top;\n",
       "    }\n",
       "\n",
       "    .dataframe thead th {\n",
       "        text-align: right;\n",
       "    }\n",
       "</style>\n",
       "<table border=\"1\" class=\"dataframe\">\n",
       "  <thead>\n",
       "    <tr style=\"text-align: right;\">\n",
       "      <th></th>\n",
       "      <th>nan_count</th>\n",
       "      <th>nan_share</th>\n",
       "    </tr>\n",
       "  </thead>\n",
       "  <tbody>\n",
       "    <tr>\n",
       "      <th>NotRepaired</th>\n",
       "      <td>71154</td>\n",
       "      <td>20.08%</td>\n",
       "    </tr>\n",
       "    <tr>\n",
       "      <th>VehicleType</th>\n",
       "      <td>37490</td>\n",
       "      <td>10.58%</td>\n",
       "    </tr>\n",
       "    <tr>\n",
       "      <th>FuelType</th>\n",
       "      <td>32895</td>\n",
       "      <td>9.28%</td>\n",
       "    </tr>\n",
       "    <tr>\n",
       "      <th>Gearbox</th>\n",
       "      <td>19833</td>\n",
       "      <td>5.60%</td>\n",
       "    </tr>\n",
       "    <tr>\n",
       "      <th>Model</th>\n",
       "      <td>19705</td>\n",
       "      <td>5.56%</td>\n",
       "    </tr>\n",
       "    <tr>\n",
       "      <th>DateCrawled</th>\n",
       "      <td>0</td>\n",
       "      <td>0.00%</td>\n",
       "    </tr>\n",
       "    <tr>\n",
       "      <th>Price</th>\n",
       "      <td>0</td>\n",
       "      <td>0.00%</td>\n",
       "    </tr>\n",
       "    <tr>\n",
       "      <th>RegistrationYear</th>\n",
       "      <td>0</td>\n",
       "      <td>0.00%</td>\n",
       "    </tr>\n",
       "    <tr>\n",
       "      <th>Power</th>\n",
       "      <td>0</td>\n",
       "      <td>0.00%</td>\n",
       "    </tr>\n",
       "    <tr>\n",
       "      <th>Kilometer</th>\n",
       "      <td>0</td>\n",
       "      <td>0.00%</td>\n",
       "    </tr>\n",
       "    <tr>\n",
       "      <th>RegistrationMonth</th>\n",
       "      <td>0</td>\n",
       "      <td>0.00%</td>\n",
       "    </tr>\n",
       "    <tr>\n",
       "      <th>Brand</th>\n",
       "      <td>0</td>\n",
       "      <td>0.00%</td>\n",
       "    </tr>\n",
       "    <tr>\n",
       "      <th>DateCreated</th>\n",
       "      <td>0</td>\n",
       "      <td>0.00%</td>\n",
       "    </tr>\n",
       "    <tr>\n",
       "      <th>NumberOfPictures</th>\n",
       "      <td>0</td>\n",
       "      <td>0.00%</td>\n",
       "    </tr>\n",
       "    <tr>\n",
       "      <th>PostalCode</th>\n",
       "      <td>0</td>\n",
       "      <td>0.00%</td>\n",
       "    </tr>\n",
       "    <tr>\n",
       "      <th>LastSeen</th>\n",
       "      <td>0</td>\n",
       "      <td>0.00%</td>\n",
       "    </tr>\n",
       "  </tbody>\n",
       "</table>\n",
       "</div>"
      ],
      "text/plain": [
       "                   nan_count nan_share\n",
       "NotRepaired            71154    20.08%\n",
       "VehicleType            37490    10.58%\n",
       "FuelType               32895     9.28%\n",
       "Gearbox                19833     5.60%\n",
       "Model                  19705     5.56%\n",
       "DateCrawled                0     0.00%\n",
       "Price                      0     0.00%\n",
       "RegistrationYear           0     0.00%\n",
       "Power                      0     0.00%\n",
       "Kilometer                  0     0.00%\n",
       "RegistrationMonth          0     0.00%\n",
       "Brand                      0     0.00%\n",
       "DateCreated                0     0.00%\n",
       "NumberOfPictures           0     0.00%\n",
       "PostalCode                 0     0.00%\n",
       "LastSeen                   0     0.00%"
      ]
     },
     "execution_count": 19,
     "metadata": {},
     "output_type": "execute_result"
    }
   ],
   "source": [
    "pd.concat([(df.isna().sum()), \n",
    "           (df.isna().sum()/len(df)).map(\"{:.2%}\".format)], \n",
    "          axis=1, \n",
    "          keys = ['nan_count', 'nan_share']).sort_values(by='nan_count', \n",
    "             ascending = False)"
   ]
  },
  {
   "cell_type": "markdown",
   "id": "423b9a9c",
   "metadata": {},
   "source": [
    "### 1.2 Описание данных"
   ]
  },
  {
   "cell_type": "code",
   "execution_count": 20,
   "id": "03a3c9d3",
   "metadata": {},
   "outputs": [
    {
     "name": "stdout",
     "output_type": "stream",
     "text": [
      "<class 'pandas.core.frame.DataFrame'>\n",
      "RangeIndex: 354369 entries, 0 to 354368\n",
      "Data columns (total 16 columns):\n",
      " #   Column             Non-Null Count   Dtype \n",
      "---  ------             --------------   ----- \n",
      " 0   DateCrawled        354369 non-null  object\n",
      " 1   Price              354369 non-null  int64 \n",
      " 2   VehicleType        316879 non-null  object\n",
      " 3   RegistrationYear   354369 non-null  int64 \n",
      " 4   Gearbox            334536 non-null  object\n",
      " 5   Power              354369 non-null  int64 \n",
      " 6   Model              334664 non-null  object\n",
      " 7   Kilometer          354369 non-null  int64 \n",
      " 8   RegistrationMonth  354369 non-null  int64 \n",
      " 9   FuelType           321474 non-null  object\n",
      " 10  Brand              354369 non-null  object\n",
      " 11  NotRepaired        283215 non-null  object\n",
      " 12  DateCreated        354369 non-null  object\n",
      " 13  NumberOfPictures   354369 non-null  int64 \n",
      " 14  PostalCode         354369 non-null  int64 \n",
      " 15  LastSeen           354369 non-null  object\n",
      "dtypes: int64(7), object(9)\n",
      "memory usage: 43.3+ MB\n"
     ]
    }
   ],
   "source": [
    "# Общая информация\n",
    "df.info()"
   ]
  },
  {
   "cell_type": "code",
   "execution_count": 21,
   "id": "60f6e7ce",
   "metadata": {},
   "outputs": [],
   "source": [
    "# Создаем функцию для сбора описательной статистики и выявления проблем с данными\n",
    "def data_description(data, description_table_show = False):\n",
    "# Создаем таблицу для сохранения данных\n",
    "    description_table = pd.DataFrame(index = data.columns)\n",
    "# Группируем характеристики по типам данных    \n",
    "    object_columns = data.dtypes[(data.dtypes == 'object')].index.tolist()\n",
    "    float_int_columns = data.columns.drop(object_columns)\n",
    "# Общие сведения о таблице    \n",
    "    print(f'Размер таблицы {data.shape}')\n",
    "    print()\n",
    "    print(f'Пропущенные значения: {data.isna().sum().sum()} штук ({data.isna().sum().sum()/data.count().sum():.2%})')\n",
    "    print(f'Доля наблюдений с пропусками: {((data.isna().sum(axis = 1))>0).sum()/len(data):.2%}')\n",
    "    print()\n",
    "    print(f'Явные дубликаты: {data.duplicated().sum()} штук ({data.duplicated().sum()/len(data):.2%})')\n",
    "# Заполняем таблицу с описательными данными\n",
    "    description_table['type'] = data.dtypes # Тип данных столбца\n",
    "    description_table['na_count'] = data.isna().sum() # Число пропусков в столбце\n",
    "    description_table['na_share'] = (data.isna().sum()/len(data)).map(\"{:.2%}\".format) # Доля этих пропусков в столбце\n",
    "    \n",
    "    # Описательные статистики числовых данных\n",
    "    description_table = description_table.join(data.loc[:,  float_int_columns].describe().T) \n",
    "    \n",
    "    # Выявление числа неявных дубликатов в файлах с текстовой информацией\n",
    "    for object_column in object_columns:\n",
    "        description_table.loc[object_column, 'implicit_dups'] = (data[object_column]\n",
    "                                                                 .unique()\n",
    "                                                                 .shape[0] - \n",
    "                                                                 data[object_column]\n",
    "                                                                 .replace(' ', '').str.lower().unique().shape[0])\n",
    "   \n",
    "    if description_table_show == True:    \n",
    "        return description_table.sort_values(by='type')"
   ]
  },
  {
   "cell_type": "code",
   "execution_count": 22,
   "id": "c9667864",
   "metadata": {},
   "outputs": [
    {
     "name": "stdout",
     "output_type": "stream",
     "text": [
      "Размер таблицы (354369, 16)\n",
      "\n",
      "Пропущенные значения: 181077 штук (3.30%)\n",
      "Доля наблюдений с пропусками: 30.63%\n",
      "\n",
      "Явные дубликаты: 4 штук (0.00%)\n"
     ]
    },
    {
     "data": {
      "text/html": [
       "<div>\n",
       "<style scoped>\n",
       "    .dataframe tbody tr th:only-of-type {\n",
       "        vertical-align: middle;\n",
       "    }\n",
       "\n",
       "    .dataframe tbody tr th {\n",
       "        vertical-align: top;\n",
       "    }\n",
       "\n",
       "    .dataframe thead th {\n",
       "        text-align: right;\n",
       "    }\n",
       "</style>\n",
       "<table border=\"1\" class=\"dataframe\">\n",
       "  <thead>\n",
       "    <tr style=\"text-align: right;\">\n",
       "      <th></th>\n",
       "      <th>type</th>\n",
       "      <th>na_count</th>\n",
       "      <th>na_share</th>\n",
       "      <th>count</th>\n",
       "      <th>mean</th>\n",
       "      <th>std</th>\n",
       "      <th>min</th>\n",
       "      <th>25%</th>\n",
       "      <th>50%</th>\n",
       "      <th>75%</th>\n",
       "      <th>max</th>\n",
       "      <th>implicit_dups</th>\n",
       "    </tr>\n",
       "  </thead>\n",
       "  <tbody>\n",
       "    <tr>\n",
       "      <th>Price</th>\n",
       "      <td>int64</td>\n",
       "      <td>0</td>\n",
       "      <td>0.00%</td>\n",
       "      <td>354369.0</td>\n",
       "      <td>4416.656776</td>\n",
       "      <td>4514.158514</td>\n",
       "      <td>0.0</td>\n",
       "      <td>1050.0</td>\n",
       "      <td>2700.0</td>\n",
       "      <td>6400.0</td>\n",
       "      <td>20000.0</td>\n",
       "      <td>NaN</td>\n",
       "    </tr>\n",
       "    <tr>\n",
       "      <th>RegistrationYear</th>\n",
       "      <td>int64</td>\n",
       "      <td>0</td>\n",
       "      <td>0.00%</td>\n",
       "      <td>354369.0</td>\n",
       "      <td>2004.234448</td>\n",
       "      <td>90.227958</td>\n",
       "      <td>1000.0</td>\n",
       "      <td>1999.0</td>\n",
       "      <td>2003.0</td>\n",
       "      <td>2008.0</td>\n",
       "      <td>9999.0</td>\n",
       "      <td>NaN</td>\n",
       "    </tr>\n",
       "    <tr>\n",
       "      <th>Power</th>\n",
       "      <td>int64</td>\n",
       "      <td>0</td>\n",
       "      <td>0.00%</td>\n",
       "      <td>354369.0</td>\n",
       "      <td>110.094337</td>\n",
       "      <td>189.850405</td>\n",
       "      <td>0.0</td>\n",
       "      <td>69.0</td>\n",
       "      <td>105.0</td>\n",
       "      <td>143.0</td>\n",
       "      <td>20000.0</td>\n",
       "      <td>NaN</td>\n",
       "    </tr>\n",
       "    <tr>\n",
       "      <th>Kilometer</th>\n",
       "      <td>int64</td>\n",
       "      <td>0</td>\n",
       "      <td>0.00%</td>\n",
       "      <td>354369.0</td>\n",
       "      <td>128211.172535</td>\n",
       "      <td>37905.341530</td>\n",
       "      <td>5000.0</td>\n",
       "      <td>125000.0</td>\n",
       "      <td>150000.0</td>\n",
       "      <td>150000.0</td>\n",
       "      <td>150000.0</td>\n",
       "      <td>NaN</td>\n",
       "    </tr>\n",
       "    <tr>\n",
       "      <th>RegistrationMonth</th>\n",
       "      <td>int64</td>\n",
       "      <td>0</td>\n",
       "      <td>0.00%</td>\n",
       "      <td>354369.0</td>\n",
       "      <td>5.714645</td>\n",
       "      <td>3.726421</td>\n",
       "      <td>0.0</td>\n",
       "      <td>3.0</td>\n",
       "      <td>6.0</td>\n",
       "      <td>9.0</td>\n",
       "      <td>12.0</td>\n",
       "      <td>NaN</td>\n",
       "    </tr>\n",
       "    <tr>\n",
       "      <th>NumberOfPictures</th>\n",
       "      <td>int64</td>\n",
       "      <td>0</td>\n",
       "      <td>0.00%</td>\n",
       "      <td>354369.0</td>\n",
       "      <td>0.000000</td>\n",
       "      <td>0.000000</td>\n",
       "      <td>0.0</td>\n",
       "      <td>0.0</td>\n",
       "      <td>0.0</td>\n",
       "      <td>0.0</td>\n",
       "      <td>0.0</td>\n",
       "      <td>NaN</td>\n",
       "    </tr>\n",
       "    <tr>\n",
       "      <th>PostalCode</th>\n",
       "      <td>int64</td>\n",
       "      <td>0</td>\n",
       "      <td>0.00%</td>\n",
       "      <td>354369.0</td>\n",
       "      <td>50508.689087</td>\n",
       "      <td>25783.096248</td>\n",
       "      <td>1067.0</td>\n",
       "      <td>30165.0</td>\n",
       "      <td>49413.0</td>\n",
       "      <td>71083.0</td>\n",
       "      <td>99998.0</td>\n",
       "      <td>NaN</td>\n",
       "    </tr>\n",
       "    <tr>\n",
       "      <th>DateCrawled</th>\n",
       "      <td>object</td>\n",
       "      <td>0</td>\n",
       "      <td>0.00%</td>\n",
       "      <td>NaN</td>\n",
       "      <td>NaN</td>\n",
       "      <td>NaN</td>\n",
       "      <td>NaN</td>\n",
       "      <td>NaN</td>\n",
       "      <td>NaN</td>\n",
       "      <td>NaN</td>\n",
       "      <td>NaN</td>\n",
       "      <td>0.0</td>\n",
       "    </tr>\n",
       "    <tr>\n",
       "      <th>VehicleType</th>\n",
       "      <td>object</td>\n",
       "      <td>37490</td>\n",
       "      <td>10.58%</td>\n",
       "      <td>NaN</td>\n",
       "      <td>NaN</td>\n",
       "      <td>NaN</td>\n",
       "      <td>NaN</td>\n",
       "      <td>NaN</td>\n",
       "      <td>NaN</td>\n",
       "      <td>NaN</td>\n",
       "      <td>NaN</td>\n",
       "      <td>0.0</td>\n",
       "    </tr>\n",
       "    <tr>\n",
       "      <th>Gearbox</th>\n",
       "      <td>object</td>\n",
       "      <td>19833</td>\n",
       "      <td>5.60%</td>\n",
       "      <td>NaN</td>\n",
       "      <td>NaN</td>\n",
       "      <td>NaN</td>\n",
       "      <td>NaN</td>\n",
       "      <td>NaN</td>\n",
       "      <td>NaN</td>\n",
       "      <td>NaN</td>\n",
       "      <td>NaN</td>\n",
       "      <td>0.0</td>\n",
       "    </tr>\n",
       "    <tr>\n",
       "      <th>Model</th>\n",
       "      <td>object</td>\n",
       "      <td>19705</td>\n",
       "      <td>5.56%</td>\n",
       "      <td>NaN</td>\n",
       "      <td>NaN</td>\n",
       "      <td>NaN</td>\n",
       "      <td>NaN</td>\n",
       "      <td>NaN</td>\n",
       "      <td>NaN</td>\n",
       "      <td>NaN</td>\n",
       "      <td>NaN</td>\n",
       "      <td>0.0</td>\n",
       "    </tr>\n",
       "    <tr>\n",
       "      <th>FuelType</th>\n",
       "      <td>object</td>\n",
       "      <td>32895</td>\n",
       "      <td>9.28%</td>\n",
       "      <td>NaN</td>\n",
       "      <td>NaN</td>\n",
       "      <td>NaN</td>\n",
       "      <td>NaN</td>\n",
       "      <td>NaN</td>\n",
       "      <td>NaN</td>\n",
       "      <td>NaN</td>\n",
       "      <td>NaN</td>\n",
       "      <td>0.0</td>\n",
       "    </tr>\n",
       "    <tr>\n",
       "      <th>Brand</th>\n",
       "      <td>object</td>\n",
       "      <td>0</td>\n",
       "      <td>0.00%</td>\n",
       "      <td>NaN</td>\n",
       "      <td>NaN</td>\n",
       "      <td>NaN</td>\n",
       "      <td>NaN</td>\n",
       "      <td>NaN</td>\n",
       "      <td>NaN</td>\n",
       "      <td>NaN</td>\n",
       "      <td>NaN</td>\n",
       "      <td>0.0</td>\n",
       "    </tr>\n",
       "    <tr>\n",
       "      <th>NotRepaired</th>\n",
       "      <td>object</td>\n",
       "      <td>71154</td>\n",
       "      <td>20.08%</td>\n",
       "      <td>NaN</td>\n",
       "      <td>NaN</td>\n",
       "      <td>NaN</td>\n",
       "      <td>NaN</td>\n",
       "      <td>NaN</td>\n",
       "      <td>NaN</td>\n",
       "      <td>NaN</td>\n",
       "      <td>NaN</td>\n",
       "      <td>0.0</td>\n",
       "    </tr>\n",
       "    <tr>\n",
       "      <th>DateCreated</th>\n",
       "      <td>object</td>\n",
       "      <td>0</td>\n",
       "      <td>0.00%</td>\n",
       "      <td>NaN</td>\n",
       "      <td>NaN</td>\n",
       "      <td>NaN</td>\n",
       "      <td>NaN</td>\n",
       "      <td>NaN</td>\n",
       "      <td>NaN</td>\n",
       "      <td>NaN</td>\n",
       "      <td>NaN</td>\n",
       "      <td>0.0</td>\n",
       "    </tr>\n",
       "    <tr>\n",
       "      <th>LastSeen</th>\n",
       "      <td>object</td>\n",
       "      <td>0</td>\n",
       "      <td>0.00%</td>\n",
       "      <td>NaN</td>\n",
       "      <td>NaN</td>\n",
       "      <td>NaN</td>\n",
       "      <td>NaN</td>\n",
       "      <td>NaN</td>\n",
       "      <td>NaN</td>\n",
       "      <td>NaN</td>\n",
       "      <td>NaN</td>\n",
       "      <td>0.0</td>\n",
       "    </tr>\n",
       "  </tbody>\n",
       "</table>\n",
       "</div>"
      ],
      "text/plain": [
       "                     type  na_count na_share     count           mean  \\\n",
       "Price               int64         0    0.00%  354369.0    4416.656776   \n",
       "RegistrationYear    int64         0    0.00%  354369.0    2004.234448   \n",
       "Power               int64         0    0.00%  354369.0     110.094337   \n",
       "Kilometer           int64         0    0.00%  354369.0  128211.172535   \n",
       "RegistrationMonth   int64         0    0.00%  354369.0       5.714645   \n",
       "NumberOfPictures    int64         0    0.00%  354369.0       0.000000   \n",
       "PostalCode          int64         0    0.00%  354369.0   50508.689087   \n",
       "DateCrawled        object         0    0.00%       NaN            NaN   \n",
       "VehicleType        object     37490   10.58%       NaN            NaN   \n",
       "Gearbox            object     19833    5.60%       NaN            NaN   \n",
       "Model              object     19705    5.56%       NaN            NaN   \n",
       "FuelType           object     32895    9.28%       NaN            NaN   \n",
       "Brand              object         0    0.00%       NaN            NaN   \n",
       "NotRepaired        object     71154   20.08%       NaN            NaN   \n",
       "DateCreated        object         0    0.00%       NaN            NaN   \n",
       "LastSeen           object         0    0.00%       NaN            NaN   \n",
       "\n",
       "                            std     min       25%       50%       75%  \\\n",
       "Price               4514.158514     0.0    1050.0    2700.0    6400.0   \n",
       "RegistrationYear      90.227958  1000.0    1999.0    2003.0    2008.0   \n",
       "Power                189.850405     0.0      69.0     105.0     143.0   \n",
       "Kilometer          37905.341530  5000.0  125000.0  150000.0  150000.0   \n",
       "RegistrationMonth      3.726421     0.0       3.0       6.0       9.0   \n",
       "NumberOfPictures       0.000000     0.0       0.0       0.0       0.0   \n",
       "PostalCode         25783.096248  1067.0   30165.0   49413.0   71083.0   \n",
       "DateCrawled                 NaN     NaN       NaN       NaN       NaN   \n",
       "VehicleType                 NaN     NaN       NaN       NaN       NaN   \n",
       "Gearbox                     NaN     NaN       NaN       NaN       NaN   \n",
       "Model                       NaN     NaN       NaN       NaN       NaN   \n",
       "FuelType                    NaN     NaN       NaN       NaN       NaN   \n",
       "Brand                       NaN     NaN       NaN       NaN       NaN   \n",
       "NotRepaired                 NaN     NaN       NaN       NaN       NaN   \n",
       "DateCreated                 NaN     NaN       NaN       NaN       NaN   \n",
       "LastSeen                    NaN     NaN       NaN       NaN       NaN   \n",
       "\n",
       "                        max  implicit_dups  \n",
       "Price               20000.0            NaN  \n",
       "RegistrationYear     9999.0            NaN  \n",
       "Power               20000.0            NaN  \n",
       "Kilometer          150000.0            NaN  \n",
       "RegistrationMonth      12.0            NaN  \n",
       "NumberOfPictures        0.0            NaN  \n",
       "PostalCode          99998.0            NaN  \n",
       "DateCrawled             NaN            0.0  \n",
       "VehicleType             NaN            0.0  \n",
       "Gearbox                 NaN            0.0  \n",
       "Model                   NaN            0.0  \n",
       "FuelType                NaN            0.0  \n",
       "Brand                   NaN            0.0  \n",
       "NotRepaired             NaN            0.0  \n",
       "DateCreated             NaN            0.0  \n",
       "LastSeen                NaN            0.0  "
      ]
     },
     "execution_count": 22,
     "metadata": {},
     "output_type": "execute_result"
    }
   ],
   "source": [
    "data_description(df, description_table_show = True)"
   ]
  },
  {
   "cell_type": "markdown",
   "id": "ed712b95",
   "metadata": {},
   "source": [
    "### 1.3 Краткие выводы по разделу 1"
   ]
  },
  {
   "cell_type": "markdown",
   "id": "733e0bd8",
   "metadata": {},
   "source": [
    "* Название столбцов записаны в регистре CamelType. Поэтому для удобства их  следует переименовать.\n",
    "* Некоторые признаки могут не понадобиться для нашего исследовния:\n",
    "    - `LastSeen` — дата последней активности пользователя (никак не влияет на цену автомобиля)\n",
    "    - `DateCreated` — дата создания анкеты (не является характеристикой определяющей цену авто)\n",
    "    - `NumberOfPictures` — количество фотографий автомобиля (во-первых, целиком состоит из нулей, т.е. неинформативный признак с нулевой вариацией; во-вторых, даже по смыслу этапеременная не столь важна, поскольку количество фотографий указывает на открытость продавца (т.е. служит сигналом)\n",
    "    - `DateCrawled` — дата скачивания анкеты из базы\n",
    "* Некоторым столбцам не соответствую типы данных, которые они содержат:\n",
    "    - `DateCrawled` формат дата (но мы его удалим)\n",
    "    - `LastSeen` формат дата (но мы его удалим)\n",
    "    - `DateCreated` — дата создания анкеты (но мы его удалим)\n",
    "    - `PostalCode` отражает географическое расположение. Эта переменная может быть полезна, поскольку может отражать разницу в стоимости по регионам. Однако следует сделать эту переменную категориальной (текстовой).\n",
    "* Наличие пропусков\n",
    "    - Возможно удастся найти способ заполнить пропуски хотя бы частично (например, путем \"поиска близнецов\")\n",
    "* Выявлено 4 явных дубликата\n",
    "* Неявные дубликаты отсуствуют\n",
    "* В столбцах `RegistrationYear` и `Power` присутствуют аномальные данные "
   ]
  },
  {
   "cell_type": "markdown",
   "id": "278d2810",
   "metadata": {},
   "source": [
    "## 2. Предобработка данных"
   ]
  },
  {
   "cell_type": "code",
   "execution_count": 23,
   "id": "23ca74d7",
   "metadata": {},
   "outputs": [
    {
     "data": {
      "text/html": [
       "<div>\n",
       "<style scoped>\n",
       "    .dataframe tbody tr th:only-of-type {\n",
       "        vertical-align: middle;\n",
       "    }\n",
       "\n",
       "    .dataframe tbody tr th {\n",
       "        vertical-align: top;\n",
       "    }\n",
       "\n",
       "    .dataframe thead th {\n",
       "        text-align: right;\n",
       "    }\n",
       "</style>\n",
       "<table border=\"1\" class=\"dataframe\">\n",
       "  <thead>\n",
       "    <tr style=\"text-align: right;\">\n",
       "      <th></th>\n",
       "      <th>DateCrawled</th>\n",
       "      <th>Price</th>\n",
       "      <th>VehicleType</th>\n",
       "      <th>RegistrationYear</th>\n",
       "      <th>Gearbox</th>\n",
       "      <th>Power</th>\n",
       "      <th>Model</th>\n",
       "      <th>Kilometer</th>\n",
       "      <th>RegistrationMonth</th>\n",
       "      <th>FuelType</th>\n",
       "      <th>Brand</th>\n",
       "      <th>NotRepaired</th>\n",
       "      <th>DateCreated</th>\n",
       "      <th>NumberOfPictures</th>\n",
       "      <th>PostalCode</th>\n",
       "      <th>LastSeen</th>\n",
       "    </tr>\n",
       "  </thead>\n",
       "  <tbody>\n",
       "    <tr>\n",
       "      <th>0</th>\n",
       "      <td>2016-03-24 11:52:17</td>\n",
       "      <td>480</td>\n",
       "      <td>NaN</td>\n",
       "      <td>1993</td>\n",
       "      <td>manual</td>\n",
       "      <td>0</td>\n",
       "      <td>golf</td>\n",
       "      <td>150000</td>\n",
       "      <td>0</td>\n",
       "      <td>petrol</td>\n",
       "      <td>volkswagen</td>\n",
       "      <td>NaN</td>\n",
       "      <td>2016-03-24 00:00:00</td>\n",
       "      <td>0</td>\n",
       "      <td>70435</td>\n",
       "      <td>2016-04-07 03:16:57</td>\n",
       "    </tr>\n",
       "    <tr>\n",
       "      <th>1</th>\n",
       "      <td>2016-03-24 10:58:45</td>\n",
       "      <td>18300</td>\n",
       "      <td>coupe</td>\n",
       "      <td>2011</td>\n",
       "      <td>manual</td>\n",
       "      <td>190</td>\n",
       "      <td>NaN</td>\n",
       "      <td>125000</td>\n",
       "      <td>5</td>\n",
       "      <td>gasoline</td>\n",
       "      <td>audi</td>\n",
       "      <td>yes</td>\n",
       "      <td>2016-03-24 00:00:00</td>\n",
       "      <td>0</td>\n",
       "      <td>66954</td>\n",
       "      <td>2016-04-07 01:46:50</td>\n",
       "    </tr>\n",
       "    <tr>\n",
       "      <th>2</th>\n",
       "      <td>2016-03-14 12:52:21</td>\n",
       "      <td>9800</td>\n",
       "      <td>suv</td>\n",
       "      <td>2004</td>\n",
       "      <td>auto</td>\n",
       "      <td>163</td>\n",
       "      <td>grand</td>\n",
       "      <td>125000</td>\n",
       "      <td>8</td>\n",
       "      <td>gasoline</td>\n",
       "      <td>jeep</td>\n",
       "      <td>NaN</td>\n",
       "      <td>2016-03-14 00:00:00</td>\n",
       "      <td>0</td>\n",
       "      <td>90480</td>\n",
       "      <td>2016-04-05 12:47:46</td>\n",
       "    </tr>\n",
       "    <tr>\n",
       "      <th>3</th>\n",
       "      <td>2016-03-17 16:54:04</td>\n",
       "      <td>1500</td>\n",
       "      <td>small</td>\n",
       "      <td>2001</td>\n",
       "      <td>manual</td>\n",
       "      <td>75</td>\n",
       "      <td>golf</td>\n",
       "      <td>150000</td>\n",
       "      <td>6</td>\n",
       "      <td>petrol</td>\n",
       "      <td>volkswagen</td>\n",
       "      <td>no</td>\n",
       "      <td>2016-03-17 00:00:00</td>\n",
       "      <td>0</td>\n",
       "      <td>91074</td>\n",
       "      <td>2016-03-17 17:40:17</td>\n",
       "    </tr>\n",
       "    <tr>\n",
       "      <th>4</th>\n",
       "      <td>2016-03-31 17:25:20</td>\n",
       "      <td>3600</td>\n",
       "      <td>small</td>\n",
       "      <td>2008</td>\n",
       "      <td>manual</td>\n",
       "      <td>69</td>\n",
       "      <td>fabia</td>\n",
       "      <td>90000</td>\n",
       "      <td>7</td>\n",
       "      <td>gasoline</td>\n",
       "      <td>skoda</td>\n",
       "      <td>no</td>\n",
       "      <td>2016-03-31 00:00:00</td>\n",
       "      <td>0</td>\n",
       "      <td>60437</td>\n",
       "      <td>2016-04-06 10:17:21</td>\n",
       "    </tr>\n",
       "  </tbody>\n",
       "</table>\n",
       "</div>"
      ],
      "text/plain": [
       "           DateCrawled  Price VehicleType  RegistrationYear Gearbox  Power  \\\n",
       "0  2016-03-24 11:52:17    480         NaN              1993  manual      0   \n",
       "1  2016-03-24 10:58:45  18300       coupe              2011  manual    190   \n",
       "2  2016-03-14 12:52:21   9800         suv              2004    auto    163   \n",
       "3  2016-03-17 16:54:04   1500       small              2001  manual     75   \n",
       "4  2016-03-31 17:25:20   3600       small              2008  manual     69   \n",
       "\n",
       "   Model  Kilometer  RegistrationMonth  FuelType       Brand NotRepaired  \\\n",
       "0   golf     150000                  0    petrol  volkswagen         NaN   \n",
       "1    NaN     125000                  5  gasoline        audi         yes   \n",
       "2  grand     125000                  8  gasoline        jeep         NaN   \n",
       "3   golf     150000                  6    petrol  volkswagen          no   \n",
       "4  fabia      90000                  7  gasoline       skoda          no   \n",
       "\n",
       "           DateCreated  NumberOfPictures  PostalCode             LastSeen  \n",
       "0  2016-03-24 00:00:00                 0       70435  2016-04-07 03:16:57  \n",
       "1  2016-03-24 00:00:00                 0       66954  2016-04-07 01:46:50  \n",
       "2  2016-03-14 00:00:00                 0       90480  2016-04-05 12:47:46  \n",
       "3  2016-03-17 00:00:00                 0       91074  2016-03-17 17:40:17  \n",
       "4  2016-03-31 00:00:00                 0       60437  2016-04-06 10:17:21  "
      ]
     },
     "execution_count": 23,
     "metadata": {},
     "output_type": "execute_result"
    }
   ],
   "source": [
    "df = df.drop_duplicates()\n",
    "df.head()"
   ]
  },
  {
   "cell_type": "markdown",
   "id": "4312b032",
   "metadata": {},
   "source": [
    "### 2.2 Замена названий столбцов"
   ]
  },
  {
   "cell_type": "code",
   "execution_count": 24,
   "id": "bad233a4",
   "metadata": {},
   "outputs": [
    {
     "data": {
      "text/plain": [
       "Index(['date_crawled', 'price', 'vehicle_type', 'registration_year', 'gearbox',\n",
       "       'power', 'model', 'kilometer', 'registration_month', 'fuel_type',\n",
       "       'brand', 'not_repaired', 'date_created', 'number_of_pictures',\n",
       "       'postal_code', 'last_seen'],\n",
       "      dtype='object')"
      ]
     },
     "execution_count": 24,
     "metadata": {},
     "output_type": "execute_result"
    }
   ],
   "source": [
    "def camel_to_snake(name):\n",
    "    name = re.sub('(.)([A-Z][a-z]+)', r'\\1_\\2', name)\n",
    "    return re.sub('([a-z0-9])([A-Z])', r'\\1_\\2', name).lower()\n",
    "\n",
    "df.columns = [camel_to_snake(name) for name in df.columns]\n",
    "df.columns"
   ]
  },
  {
   "cell_type": "markdown",
   "id": "8e02806b",
   "metadata": {},
   "source": [
    "### 2.3 Замена типа данных"
   ]
  },
  {
   "cell_type": "code",
   "execution_count": 25,
   "id": "c2bc78e1",
   "metadata": {},
   "outputs": [
    {
     "data": {
      "text/plain": [
       "dtype('O')"
      ]
     },
     "execution_count": 25,
     "metadata": {},
     "output_type": "execute_result"
    }
   ],
   "source": [
    "df['postal_code'] = df['postal_code'].astype('str')\n",
    "df.dtypes['postal_code']"
   ]
  },
  {
   "cell_type": "markdown",
   "id": "d9024ef8",
   "metadata": {},
   "source": [
    "### 2.4 Работа с пропусками, аномалиями и некорректными данными"
   ]
  },
  {
   "cell_type": "markdown",
   "id": "3274bd69",
   "metadata": {},
   "source": [
    "### 2.4.1 Некорректные данные в столбце `registration_year`"
   ]
  },
  {
   "cell_type": "code",
   "execution_count": 26,
   "id": "4ddf4526",
   "metadata": {},
   "outputs": [
    {
     "name": "stdout",
     "output_type": "stream",
     "text": [
      "Всего некорректных наблюдений\n",
      "171\n",
      "\n",
      "Осталось наблюдений: 354194\n"
     ]
    }
   ],
   "source": [
    "# Ограничим год регистрации интервалом от 1990 до 2022 влючительно\n",
    "print('Всего некорректных наблюдений')\n",
    "print(((df['registration_year']<1900) | (df['registration_year']>2022)).sum())\n",
    "print()\n",
    "df = df[(df['registration_year']>1900) & (df['registration_year']<2022)]\n",
    "print('Осталось наблюдений:', len(df))"
   ]
  },
  {
   "cell_type": "code",
   "execution_count": 37,
   "id": "65d0ba03",
   "metadata": {},
   "outputs": [],
   "source": [
    "df['date_crawled'] = pd.to_datetime(df['date_crawled'], format='%Y-%m-%d %H:%M:%S')\n",
    "df =df[df['date_crawled'].dt.year>df['registration_year']]"
   ]
  },
  {
   "cell_type": "markdown",
   "id": "5c27912c",
   "metadata": {},
   "source": [
    "<div class='alert alert-warning'>⚠️Отлично, явно неправильные значения из RegistrationYear удалили, можно было еще отфильтровать строки с годом регистрации больше  DateCrawled\n",
    "<div class=\"alert alert-info\"> <b> ИСПРАВЛЕНО. Код над комментарием </b> </div>\n",
    "</div>"
   ]
  },
  {
   "cell_type": "markdown",
   "id": "7af597c6",
   "metadata": {},
   "source": [
    "### 2.1 Удаление ненужных столбцов и явных дубликатов"
   ]
  },
  {
   "cell_type": "code",
   "execution_count": 38,
   "id": "2ff9f1b1",
   "metadata": {},
   "outputs": [],
   "source": [
    "df = df.drop(['date_crawled', 'date_created', 'last_seen', 'number_of_pictures'], axis=1)"
   ]
  },
  {
   "cell_type": "markdown",
   "id": "0b57c307",
   "metadata": {},
   "source": [
    "### 2.4.2 Заполнение пропусков"
   ]
  },
  {
   "cell_type": "code",
   "execution_count": 41,
   "id": "e7d7c89b",
   "metadata": {
    "scrolled": true
   },
   "outputs": [
    {
     "name": "stdout",
     "output_type": "stream",
     "text": [
      "Размер таблицы (330170, 12)\n",
      "\n",
      "Пропущенные значения: 130336 штук (3.40%)\n",
      "Доля наблюдений с пропусками: 25.59%\n",
      "\n",
      "Явные дубликаты: 20432 штук (6.19%)\n"
     ]
    },
    {
     "data": {
      "text/html": [
       "<div>\n",
       "<style scoped>\n",
       "    .dataframe tbody tr th:only-of-type {\n",
       "        vertical-align: middle;\n",
       "    }\n",
       "\n",
       "    .dataframe tbody tr th {\n",
       "        vertical-align: top;\n",
       "    }\n",
       "\n",
       "    .dataframe thead th {\n",
       "        text-align: right;\n",
       "    }\n",
       "</style>\n",
       "<table border=\"1\" class=\"dataframe\">\n",
       "  <thead>\n",
       "    <tr style=\"text-align: right;\">\n",
       "      <th></th>\n",
       "      <th>type</th>\n",
       "      <th>na_count</th>\n",
       "      <th>na_share</th>\n",
       "      <th>count</th>\n",
       "      <th>mean</th>\n",
       "      <th>std</th>\n",
       "      <th>min</th>\n",
       "      <th>25%</th>\n",
       "      <th>50%</th>\n",
       "      <th>75%</th>\n",
       "      <th>max</th>\n",
       "      <th>implicit_dups</th>\n",
       "    </tr>\n",
       "  </thead>\n",
       "  <tbody>\n",
       "    <tr>\n",
       "      <th>fuel_type</th>\n",
       "      <td>object</td>\n",
       "      <td>23564</td>\n",
       "      <td>7.14%</td>\n",
       "      <td>NaN</td>\n",
       "      <td>NaN</td>\n",
       "      <td>NaN</td>\n",
       "      <td>NaN</td>\n",
       "      <td>NaN</td>\n",
       "      <td>NaN</td>\n",
       "      <td>NaN</td>\n",
       "      <td>NaN</td>\n",
       "      <td>0.0</td>\n",
       "    </tr>\n",
       "    <tr>\n",
       "      <th>gearbox</th>\n",
       "      <td>object</td>\n",
       "      <td>16573</td>\n",
       "      <td>5.02%</td>\n",
       "      <td>NaN</td>\n",
       "      <td>NaN</td>\n",
       "      <td>NaN</td>\n",
       "      <td>NaN</td>\n",
       "      <td>NaN</td>\n",
       "      <td>NaN</td>\n",
       "      <td>NaN</td>\n",
       "      <td>NaN</td>\n",
       "      <td>0.0</td>\n",
       "    </tr>\n",
       "    <tr>\n",
       "      <th>model</th>\n",
       "      <td>object</td>\n",
       "      <td>16318</td>\n",
       "      <td>4.94%</td>\n",
       "      <td>NaN</td>\n",
       "      <td>NaN</td>\n",
       "      <td>NaN</td>\n",
       "      <td>NaN</td>\n",
       "      <td>NaN</td>\n",
       "      <td>NaN</td>\n",
       "      <td>NaN</td>\n",
       "      <td>NaN</td>\n",
       "      <td>0.0</td>\n",
       "    </tr>\n",
       "    <tr>\n",
       "      <th>vehicle_type</th>\n",
       "      <td>object</td>\n",
       "      <td>13508</td>\n",
       "      <td>4.09%</td>\n",
       "      <td>NaN</td>\n",
       "      <td>NaN</td>\n",
       "      <td>NaN</td>\n",
       "      <td>NaN</td>\n",
       "      <td>NaN</td>\n",
       "      <td>NaN</td>\n",
       "      <td>NaN</td>\n",
       "      <td>NaN</td>\n",
       "      <td>0.0</td>\n",
       "    </tr>\n",
       "    <tr>\n",
       "      <th>not_repaired</th>\n",
       "      <td>object</td>\n",
       "      <td>60373</td>\n",
       "      <td>18.29%</td>\n",
       "      <td>NaN</td>\n",
       "      <td>NaN</td>\n",
       "      <td>NaN</td>\n",
       "      <td>NaN</td>\n",
       "      <td>NaN</td>\n",
       "      <td>NaN</td>\n",
       "      <td>NaN</td>\n",
       "      <td>NaN</td>\n",
       "      <td>0.0</td>\n",
       "    </tr>\n",
       "    <tr>\n",
       "      <th>price</th>\n",
       "      <td>int64</td>\n",
       "      <td>0</td>\n",
       "      <td>0.00%</td>\n",
       "      <td>330170.0</td>\n",
       "      <td>4540.142793</td>\n",
       "      <td>4564.406192</td>\n",
       "      <td>0.0</td>\n",
       "      <td>1149.0</td>\n",
       "      <td>2850.0</td>\n",
       "      <td>6500.0</td>\n",
       "      <td>20000.0</td>\n",
       "      <td>NaN</td>\n",
       "    </tr>\n",
       "  </tbody>\n",
       "</table>\n",
       "</div>"
      ],
      "text/plain": [
       "                type  na_count na_share     count         mean          std  \\\n",
       "fuel_type     object     23564    7.14%       NaN          NaN          NaN   \n",
       "gearbox       object     16573    5.02%       NaN          NaN          NaN   \n",
       "model         object     16318    4.94%       NaN          NaN          NaN   \n",
       "vehicle_type  object     13508    4.09%       NaN          NaN          NaN   \n",
       "not_repaired  object     60373   18.29%       NaN          NaN          NaN   \n",
       "price          int64         0    0.00%  330170.0  4540.142793  4564.406192   \n",
       "\n",
       "              min     25%     50%     75%      max  implicit_dups  \n",
       "fuel_type     NaN     NaN     NaN     NaN      NaN            0.0  \n",
       "gearbox       NaN     NaN     NaN     NaN      NaN            0.0  \n",
       "model         NaN     NaN     NaN     NaN      NaN            0.0  \n",
       "vehicle_type  NaN     NaN     NaN     NaN      NaN            0.0  \n",
       "not_repaired  NaN     NaN     NaN     NaN      NaN            0.0  \n",
       "price         0.0  1149.0  2850.0  6500.0  20000.0            NaN  "
      ]
     },
     "execution_count": 41,
     "metadata": {},
     "output_type": "execute_result"
    }
   ],
   "source": [
    "data_description(df, description_table_show = True).sort_values(by = 'na_share', ascending = False).head(6)"
   ]
  },
  {
   "cell_type": "markdown",
   "id": "a0832fd8",
   "metadata": {},
   "source": [
    "Пропуски присутствуют только в категориальных переменных. Решуить проблему с пропусками можно по-разному:\n",
    "* Можно считать, что отсуствие данных по каким-то категориям влияет на цену. В этом случае следует заменить данные на категорию \"unknown\"\n",
    "* Можно попробовать заполнить пропуски в данных модальными значениями для одной модели автомобиля. Например, тип кузова у одной и той же модели машины, наверняка, одинаковый.\n",
    "\n",
    "В нашем случае отсуствие информации в каждой из характеристик целесообразно считать отдельной категорией, поскольку отсуствие информации влияет на рыночную цену. Поэтому воспользуемся первым способом."
   ]
  },
  {
   "cell_type": "code",
   "execution_count": 42,
   "id": "2e6db7b9",
   "metadata": {},
   "outputs": [],
   "source": [
    "# ЗАменяем пропуски в данных на \"unknown\"\n",
    "df = df.fillna('unknown')"
   ]
  },
  {
   "cell_type": "code",
   "execution_count": 43,
   "id": "e8b47a07",
   "metadata": {},
   "outputs": [
    {
     "data": {
      "text/plain": [
       "1        29\n",
       "2         9\n",
       "3         8\n",
       "4        30\n",
       "5        99\n",
       "         ..\n",
       "17932     1\n",
       "19208     1\n",
       "19211     1\n",
       "19312     1\n",
       "20000     1\n",
       "Name: power, Length: 683, dtype: int64"
      ]
     },
     "execution_count": 43,
     "metadata": {},
     "output_type": "execute_result"
    }
   ],
   "source": [
    "df[df['power']>0]['power'].value_counts().sort_index()"
   ]
  },
  {
   "cell_type": "markdown",
   "id": "894ca7d9",
   "metadata": {},
   "source": [
    "### 2.5 Работа с аномалиями"
   ]
  },
  {
   "cell_type": "code",
   "execution_count": 44,
   "id": "b21f68a8",
   "metadata": {
    "scrolled": false
   },
   "outputs": [
    {
     "data": {
      "image/png": "[encoded data removed]",
      "text/plain": [
       "<Figure size 1008x504 with 4 Axes>"
      ]
     },
     "metadata": {
      "needs_background": "light"
     },
     "output_type": "display_data"
    }
   ],
   "source": [
    "cols = ['registration_year', 'power', 'kilometer', 'registration_month']\n",
    "\n",
    "fig, axs = plt.subplots(2, 2, figsize=(14, 7))\n",
    "axs_lst = [\n",
    "    axs[0, 0], axs[0, 1],\n",
    "    axs[1, 0], axs[1, 1],\n",
    "]\n",
    "\n",
    "fig.suptitle('Анализ выбросов', fontsize=24)\n",
    "\n",
    "for col, ax in zip(cols, axs_lst):\n",
    "    sns_ax = sns.boxplot(data=df, y=col, ax=ax)\n",
    "\n",
    "plt.show()"
   ]
  },
  {
   "cell_type": "markdown",
   "id": "2df174f6",
   "metadata": {},
   "source": [
    "* Выбросы по году регистрации учитывать не стоит, поскольку модет на рнке есть и раритетные авто\n",
    "* Выбросы по мощности следует удалить\n",
    "* Выбросы пробегу выглядят подозрительно, но у нас нет дополнительной информации, поэтому оставляем"
   ]
  },
  {
   "cell_type": "code",
   "execution_count": 45,
   "id": "2127ac4e",
   "metadata": {},
   "outputs": [
    {
     "name": "stdout",
     "output_type": "stream",
     "text": [
      "252.5\n"
     ]
    }
   ],
   "source": [
    "# Удалим наблюдения с аномальными значениями в столбце power\n",
    "\n",
    "df = df[(df['power']>50) & (df['power']<1000)]"
   ]
  },
  {
   "cell_type": "code",
   "execution_count": 46,
   "id": "f617eb2c",
   "metadata": {},
   "outputs": [
    {
     "name": "stderr",
     "output_type": "stream",
     "text": [
      "D:\\anaconda3\\lib\\site-packages\\seaborn\\_decorators.py:36: FutureWarning: Pass the following variable as a keyword arg: x. From version 0.12, the only valid positional argument will be `data`, and passing other arguments without an explicit keyword will result in an error or misinterpretation.\n",
      "  warnings.warn(\n"
     ]
    },
    {
     "data": {
      "text/plain": [
       "<AxesSubplot:xlabel='price'>"
      ]
     },
     "execution_count": 46,
     "metadata": {},
     "output_type": "execute_result"
    },
    {
     "data": {
      "image/png": "[encoded data removed]",
      "text/plain": [
       "<Figure size 432x288 with 1 Axes>"
      ]
     },
     "metadata": {
      "needs_background": "light"
     },
     "output_type": "display_data"
    }
   ],
   "source": [
    "sns.boxplot(df['price'])"
   ]
  },
  {
   "cell_type": "markdown",
   "id": "3195515b",
   "metadata": {},
   "source": [
    "## 4. Подготовка данных к обучению"
   ]
  },
  {
   "cell_type": "code",
   "execution_count": 47,
   "id": "d8fb39f2",
   "metadata": {},
   "outputs": [],
   "source": [
    "# Разбиваем выборку на тестовую и обучающую\n",
    "\n",
    "cat_columns = ['vehicle_type', \n",
    "               'gearbox', 'model', \n",
    "               'fuel_type', \n",
    "               'brand', \n",
    "               'not_repaired', \n",
    "               'postal_code', \n",
    "               'registration_month']\n",
    "\n",
    "df_labels = df.copy()\n",
    "df_labels[cat_columns] = df_labels[cat_columns].astype('category')\n",
    "\n",
    "enc = LabelEncoder()\n",
    "\n",
    "for col in cat_columns:\n",
    "    df_labels[col] = enc.fit_transform(df_labels[col])\n",
    "\n",
    "x = df_labels.drop('price', axis=1)\n",
    "y = df_labels['price']\n",
    "\n",
    "x_train, x_test, y_train, y_test = train_test_split(x, y, test_size=.25, random_state=42)\n"
   ]
  },
  {
   "cell_type": "code",
   "execution_count": 48,
   "id": "7b8c9fc5",
   "metadata": {},
   "outputs": [],
   "source": [
    "def rmse(y, predictions):\n",
    "    return mse(y, predictions)**0.5\n",
    "\n",
    "rmse_score = make_scorer(rmse, greater_is_better=False)"
   ]
  },
  {
   "cell_type": "markdown",
   "id": "8bd08397",
   "metadata": {},
   "source": [
    "## 5. Обучение моделей"
   ]
  },
  {
   "cell_type": "code",
   "execution_count": 51,
   "id": "63d8301d",
   "metadata": {},
   "outputs": [],
   "source": [
    "rnd_st=12345\n",
    "cv = KFold(n_splits=5, shuffle=True, random_state=rnd_st)"
   ]
  },
  {
   "cell_type": "markdown",
   "id": "a29425cc",
   "metadata": {},
   "source": [
    "### 5.1 LGBMRegressor"
   ]
  },
  {
   "cell_type": "code",
   "execution_count": 52,
   "id": "2c8dff78",
   "metadata": {},
   "outputs": [],
   "source": [
    "estim = LGBMRegressor(boosting_type='gbdt', random_state=rnd_st)\n",
    "\n",
    "params = {\n",
    "    'n_estimators': [30, 60],\n",
    "    'num_leaves': [20, 40, 60],\n",
    "    'learning_rate': np.logspace(-2, 5),\n",
    "}\n",
    "\n",
    "grid_lgbm = GridSearchCV(estimator=estim, param_grid=params, cv=cv, scoring=rmse_score, n_jobs=-1)"
   ]
  },
  {
   "cell_type": "code",
   "execution_count": 53,
   "id": "c9a0f47d",
   "metadata": {},
   "outputs": [
    {
     "name": "stdout",
     "output_type": "stream",
     "text": [
      "Wall time: 9min 47s\n"
     ]
    },
    {
     "data": {
      "text/plain": [
       "GridSearchCV(cv=KFold(n_splits=5, random_state=12345, shuffle=True),\n",
       "             estimator=LGBMRegressor(random_state=12345), n_jobs=-1,\n",
       "             param_grid={'learning_rate': array([1.00000000e-02, 1.38949549e-02, 1.93069773e-02, 2.68269580e-02,\n",
       "       3.72759372e-02, 5.17947468e-02, 7.19685673e-02, 1.00000000e-01,\n",
       "       1.38949549e-01, 1.93069773e-01, 2.68269580e-01, 3.72759372e-01,\n",
       "       5.17947468e-01,...\n",
       "       3.72759372e+02, 5.17947468e+02, 7.19685673e+02, 1.00000000e+03,\n",
       "       1.38949549e+03, 1.93069773e+03, 2.68269580e+03, 3.72759372e+03,\n",
       "       5.17947468e+03, 7.19685673e+03, 1.00000000e+04, 1.38949549e+04,\n",
       "       1.93069773e+04, 2.68269580e+04, 3.72759372e+04, 5.17947468e+04,\n",
       "       7.19685673e+04, 1.00000000e+05]),\n",
       "                         'n_estimators': [60, 150],\n",
       "                         'num_leaves': [20, 40, 60]},\n",
       "             scoring=make_scorer(rmse, greater_is_better=False))"
      ]
     },
     "execution_count": 53,
     "metadata": {},
     "output_type": "execute_result"
    }
   ],
   "source": [
    "%%time\n",
    "grid_lgbm.fit(x_train, y_train)"
   ]
  },
  {
   "cell_type": "code",
   "execution_count": 54,
   "id": "c4cea759",
   "metadata": {},
   "outputs": [
    {
     "data": {
      "text/plain": [
       "{'learning_rate': 0.19306977288832497, 'n_estimators': 150, 'num_leaves': 60}"
      ]
     },
     "metadata": {},
     "output_type": "display_data"
    },
    {
     "data": {
      "text/plain": [
       "-1589.4857618460367"
      ]
     },
     "metadata": {},
     "output_type": "display_data"
    }
   ],
   "source": [
    "display(grid_lgbm.best_params_, grid_lgbm.best_score_)"
   ]
  },
  {
   "cell_type": "markdown",
   "id": "6e753f33",
   "metadata": {},
   "source": [
    "### 5.2 CatBoostRegressor"
   ]
  },
  {
   "cell_type": "code",
   "execution_count": 55,
   "id": "4cc1d7e8",
   "metadata": {},
   "outputs": [],
   "source": [
    "estim = CatBoostRegressor(loss_function='RMSE', silent=True, random_state=rnd_st, cat_features = cat_columns)\n",
    "\n",
    "params = {\n",
    "    'n_estimators': [60, 150],\n",
    "}\n",
    "\n",
    "grid_cb = GridSearchCV(estimator=estim, param_grid=params, cv=cv, scoring=rmse_score, n_jobs=-1)"
   ]
  },
  {
   "cell_type": "code",
   "execution_count": 56,
   "id": "c0764680",
   "metadata": {},
   "outputs": [
    {
     "name": "stdout",
     "output_type": "stream",
     "text": [
      "Wall time: 1min 11s\n"
     ]
    },
    {
     "data": {
      "text/plain": [
       "GridSearchCV(cv=KFold(n_splits=5, random_state=12345, shuffle=True),\n",
       "             estimator=<catboost.core.CatBoostRegressor object at 0x000002DCD39AF790>,\n",
       "             n_jobs=-1, param_grid={'n_estimators': [60, 150]},\n",
       "             scoring=make_scorer(rmse, greater_is_better=False))"
      ]
     },
     "execution_count": 56,
     "metadata": {},
     "output_type": "execute_result"
    }
   ],
   "source": [
    "%%time\n",
    "grid_cb.fit(x_train, y_train)"
   ]
  },
  {
   "cell_type": "code",
   "execution_count": 57,
   "id": "e7c520db",
   "metadata": {},
   "outputs": [
    {
     "data": {
      "text/plain": [
       "{'n_estimators': 150}"
      ]
     },
     "metadata": {},
     "output_type": "display_data"
    },
    {
     "data": {
      "text/plain": [
       "-1635.2646204018845"
      ]
     },
     "metadata": {},
     "output_type": "display_data"
    }
   ],
   "source": [
    "display(grid_cb.best_params_, grid_cb.best_score_)"
   ]
  },
  {
   "cell_type": "markdown",
   "id": "23c73106",
   "metadata": {},
   "source": [
    "### 5.3 Lasso"
   ]
  },
  {
   "cell_type": "code",
   "execution_count": 58,
   "id": "504f2862",
   "metadata": {},
   "outputs": [],
   "source": [
    "estim = Lasso(max_iter=15)\n",
    "\n",
    "params = {\n",
    "    'alpha': np.logspace(-2, 5)\n",
    "}\n",
    "\n",
    "grid_lasso = GridSearchCV(estimator=estim, param_grid=params, cv=cv, scoring=rmse_score, n_jobs=-1)"
   ]
  },
  {
   "cell_type": "code",
   "execution_count": 59,
   "id": "9f4751be",
   "metadata": {},
   "outputs": [
    {
     "name": "stdout",
     "output_type": "stream",
     "text": [
      "Wall time: 31.3 s\n"
     ]
    },
    {
     "name": "stderr",
     "output_type": "stream",
     "text": [
      "D:\\anaconda3\\lib\\site-packages\\sklearn\\linear_model\\_coordinate_descent.py:530: ConvergenceWarning: Objective did not converge. You might want to increase the number of iterations. Duality gap: 778531245364.302, tolerance: 429460218.55259436\n",
      "  model = cd_fast.enet_coordinate_descent(\n"
     ]
    },
    {
     "data": {
      "text/plain": [
       "GridSearchCV(cv=KFold(n_splits=5, random_state=12345, shuffle=True),\n",
       "             estimator=Lasso(max_iter=15), n_jobs=-1,\n",
       "             param_grid={'alpha': array([1.00000000e-02, 1.38949549e-02, 1.93069773e-02, 2.68269580e-02,\n",
       "       3.72759372e-02, 5.17947468e-02, 7.19685673e-02, 1.00000000e-01,\n",
       "       1.38949549e-01, 1.93069773e-01, 2.68269580e-01, 3.72759372e-01,\n",
       "       5.17947468e-01, 7.19685673e-01, 1.000000...\n",
       "       1.00000000e+02, 1.38949549e+02, 1.93069773e+02, 2.68269580e+02,\n",
       "       3.72759372e+02, 5.17947468e+02, 7.19685673e+02, 1.00000000e+03,\n",
       "       1.38949549e+03, 1.93069773e+03, 2.68269580e+03, 3.72759372e+03,\n",
       "       5.17947468e+03, 7.19685673e+03, 1.00000000e+04, 1.38949549e+04,\n",
       "       1.93069773e+04, 2.68269580e+04, 3.72759372e+04, 5.17947468e+04,\n",
       "       7.19685673e+04, 1.00000000e+05])},\n",
       "             scoring=make_scorer(rmse, greater_is_better=False))"
      ]
     },
     "execution_count": 59,
     "metadata": {},
     "output_type": "execute_result"
    }
   ],
   "source": [
    "%%time\n",
    "grid_lasso.fit(x_train, y_train)"
   ]
  },
  {
   "cell_type": "code",
   "execution_count": 60,
   "id": "69d1c2e3",
   "metadata": {},
   "outputs": [
    {
     "data": {
      "text/plain": [
       "{'alpha': 0.01}"
      ]
     },
     "metadata": {},
     "output_type": "display_data"
    },
    {
     "data": {
      "text/plain": [
       "-1635.2646204018845"
      ]
     },
     "metadata": {},
     "output_type": "display_data"
    }
   ],
   "source": [
    "display(grid_lasso.best_params_, grid_cb.best_score_)"
   ]
  },
  {
   "cell_type": "markdown",
   "id": "6ebc7d07",
   "metadata": {},
   "source": [
    "## 6 Анализ моделей"
   ]
  },
  {
   "cell_type": "code",
   "execution_count": 61,
   "id": "12520579",
   "metadata": {},
   "outputs": [
    {
     "name": "stdout",
     "output_type": "stream",
     "text": [
      "LGBMRegressor(learning_rate=0.19306977288832497, n_estimators=150,\n",
      "              num_leaves=60, random_state=12345)\n",
      "Fit time: 1.12\n",
      "Predict time: 1.31\n",
      "Score: 1604.23\n",
      "\n",
      "<catboost.core.CatBoostRegressor object at 0x000002DCD3A962E0>\n",
      "Fit time: 9.77\n",
      "Predict time: 9.95\n",
      "Score: 1658.83\n",
      "\n",
      "Lasso(alpha=0.01, max_iter=15)\n",
      "Fit time: 0.07\n",
      "Predict time: 0.08\n",
      "Score: 2837.38\n",
      "\n"
     ]
    },
    {
     "name": "stderr",
     "output_type": "stream",
     "text": [
      "D:\\anaconda3\\lib\\site-packages\\sklearn\\linear_model\\_coordinate_descent.py:530: ConvergenceWarning: Objective did not converge. You might want to increase the number of iterations. Duality gap: 778531245364.302, tolerance: 429460218.55259436\n",
      "  model = cd_fast.enet_coordinate_descent(\n"
     ]
    }
   ],
   "source": [
    "models = [\n",
    "    grid_lgbm.best_estimator_, \n",
    "    grid_cb.best_estimator_, \n",
    "    grid_lasso.best_estimator_\n",
    "]\n",
    "\n",
    "for model in models:\n",
    "    start = time.time()\n",
    "    model.fit(x_train, y_train)\n",
    "    fit_time = time.time() - start\n",
    "    pred = model.predict(x_test)\n",
    "    pred_time = time.time() - start\n",
    "    score = rmse(pred, y_test)\n",
    "    print(f'{model}')\n",
    "    print(f'Fit time: {fit_time:.2f}\\nPredict time: {pred_time:.2f}\\nScore: {score:.2f}')\n",
    "    print()"
   ]
  },
  {
   "cell_type": "code",
   "execution_count": 63,
   "id": "be53cb2c",
   "metadata": {},
   "outputs": [
    {
     "name": "stdout",
     "output_type": "stream",
     "text": [
      "Модель Lasso(alpha=0.01, max_iter=15) удовлетворяет критерию по качеству\n",
      "Метрика выбранной модели 1604.23\n"
     ]
    }
   ],
   "source": [
    "pred = models[0].predict(x_test)\n",
    "score = rmse(pred, y_test)\n",
    "if score < 2500:\n",
    "    print(f'Модель {model} удовлетворяет критерию по качеству')\n",
    "    print(f'Метрика выбранной модели {score:.2f}')\n",
    "else:\n",
    "    print(f'Модель {model} НЕ удовлетворяет критерию по качеству')\n",
    "    print('Следует подобрать другую модель.')"
   ]
  },
  {
   "cell_type": "markdown",
   "id": "f98872ce",
   "metadata": {},
   "source": [
    "## Выводы\n",
    "* В рамках проект были построены три модели оценки рыночной цены автомобиля:\n",
    "    - LGBMRegressor\n",
    "    - CatBoostRegressor\n",
    "    - Lasso (решил попробовать новую модель, поэтому ее выбрал)\n",
    "* Наилучшей моделью с точки зрения метрики оказалась `LGBMRegressor`\n",
    "* По времени оценивания лучшей стала модель `LGBMRegressor`\n",
    "* Метрика RMSE 1604.23 < 2500"
   ]
  }
 ],
 "metadata": {
  "ExecuteTimeLog": [
   {
    "duration": 1984,
    "start_time": "2022-07-31T15:37:18.563Z"
   },
   {
    "duration": 3071,
    "start_time": "2022-07-31T15:37:20.549Z"
   },
   {
    "duration": 273,
    "start_time": "2022-07-31T15:37:36.357Z"
   },
   {
    "duration": 153,
    "start_time": "2022-07-31T15:37:42.846Z"
   },
   {
    "duration": 577,
    "start_time": "2022-07-31T15:41:58.225Z"
   },
   {
    "duration": 9,
    "start_time": "2022-07-31T15:43:07.972Z"
   },
   {
    "duration": 240,
    "start_time": "2022-07-31T15:43:12.850Z"
   },
   {
    "duration": 222,
    "start_time": "2022-07-31T15:46:04.923Z"
   },
   {
    "duration": 152,
    "start_time": "2022-07-31T15:46:30.242Z"
   },
   {
    "duration": 4,
    "start_time": "2022-07-31T15:46:35.546Z"
   },
   {
    "duration": 981,
    "start_time": "2022-07-31T15:46:35.553Z"
   },
   {
    "duration": 297,
    "start_time": "2022-07-31T15:46:36.536Z"
   },
   {
    "duration": 153,
    "start_time": "2022-07-31T15:46:36.835Z"
   },
   {
    "duration": 7,
    "start_time": "2022-07-31T15:46:36.990Z"
   },
   {
    "duration": 3293,
    "start_time": "2022-07-31T15:46:37.009Z"
   },
   {
    "duration": 27,
    "start_time": "2022-07-31T15:46:40.304Z"
   },
   {
    "duration": 256,
    "start_time": "2022-07-31T15:46:40.333Z"
   },
   {
    "duration": 6,
    "start_time": "2022-07-31T15:46:40.591Z"
   },
   {
    "duration": 204,
    "start_time": "2022-07-31T15:46:40.610Z"
   },
   {
    "duration": 94,
    "start_time": "2022-07-31T15:46:40.816Z"
   },
   {
    "duration": 2191,
    "start_time": "2022-07-31T15:46:40.912Z"
   },
   {
    "duration": 132,
    "start_time": "2022-07-31T15:47:06.500Z"
   },
   {
    "duration": 61,
    "start_time": "2022-07-31T15:47:30.803Z"
   },
   {
    "duration": 519,
    "start_time": "2022-07-31T15:47:49.871Z"
   },
   {
    "duration": 44,
    "start_time": "2022-07-31T15:54:30.446Z"
   },
   {
    "duration": 5,
    "start_time": "2022-07-31T15:54:43.785Z"
   },
   {
    "duration": 18,
    "start_time": "2022-07-31T15:56:32.411Z"
   },
   {
    "duration": 686,
    "start_time": "2022-07-31T15:58:08.052Z"
   },
   {
    "duration": 12,
    "start_time": "2022-07-31T15:58:20.883Z"
   },
   {
    "duration": 3,
    "start_time": "2022-07-31T15:58:35.279Z"
   },
   {
    "duration": 4,
    "start_time": "2022-07-31T15:59:37.439Z"
   },
   {
    "duration": 4,
    "start_time": "2022-07-31T15:59:43.243Z"
   }
  ],
  "kernelspec": {
   "display_name": "Python 3 (ipykernel)",
   "language": "python",
   "name": "python3"
  },
  "language_info": {
   "codemirror_mode": {
    "name": "ipython",
    "version": 3
   },
   "file_extension": ".py",
   "mimetype": "text/x-python",
   "name": "python",
   "nbconvert_exporter": "python",
   "pygments_lexer": "ipython3",
   "version": "3.9.7"
  },
  "toc": {
   "base_numbering": 1,
   "nav_menu": {},
   "number_sections": true,
   "sideBar": true,
   "skip_h1_title": true,
   "title_cell": "Table of Contents",
   "title_sidebar": "Contents",
   "toc_cell": false,
   "toc_position": {},
   "toc_section_display": true,
   "toc_window_display": true
  }
 },
 "nbformat": 4,
 "nbformat_minor": 5
}
